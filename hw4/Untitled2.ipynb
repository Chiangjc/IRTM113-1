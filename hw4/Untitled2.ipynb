{
 "cells": [
  {
   "cell_type": "code",
   "execution_count": 6,
   "id": "b4181505",
   "metadata": {},
   "outputs": [
    {
     "name": "stdout",
     "output_type": "stream",
     "text": [
      "Clusters have been written to output.txt\n"
     ]
    }
   ],
   "source": [
    "from collections import defaultdict\n",
    "\n",
    "# Function to process the clusters and group them based on shared IDs\n",
    "def process_clusters(file_path):\n",
    "    with open(file_path, 'r') as file:\n",
    "        lines = file.readlines()\n",
    "\n",
    "    # A list to store all the clusters as sets of IDs\n",
    "    clusters = []\n",
    "    id_to_cluster = defaultdict(list)\n",
    "\n",
    "    # Read each line and store the IDs\n",
    "    current_cluster = []\n",
    "    for line in lines:\n",
    "        line = line.strip()\n",
    "        if line:\n",
    "            current_cluster.append(line)\n",
    "        else:\n",
    "            if current_cluster:\n",
    "                clusters.append(set(current_cluster))\n",
    "            current_cluster = []\n",
    "\n",
    "    # Add the last cluster if it's not added yet\n",
    "    if current_cluster:\n",
    "        clusters.append(set(current_cluster))\n",
    "\n",
    "    # Now merge clusters based on shared IDs\n",
    "    merged_clusters = []\n",
    "    while clusters:\n",
    "        cluster = clusters.pop(0)\n",
    "        # Check if it can be merged with any existing cluster\n",
    "        merged = False\n",
    "        for i, merged_cluster in enumerate(merged_clusters):\n",
    "            if cluster & merged_cluster:  # If there's an overlap\n",
    "                merged_clusters[i] |= cluster  # Merge the clusters\n",
    "                merged = True\n",
    "                break\n",
    "        if not merged:\n",
    "            merged_clusters.append(cluster)\n",
    "\n",
    "    # Return the merged clusters as a sorted list of lists\n",
    "    return [sorted(list(cluster)) for cluster in merged_clusters]\n",
    "\n",
    "# Function to write the output in the same format as the input\n",
    "def write_clusters(clusters, output_path):\n",
    "    with open(output_path, 'w') as file:\n",
    "        for cluster in clusters:\n",
    "            for id_ in cluster:\n",
    "                file.write(f\"{id_}\\n\")  # Write each ID on a new line\n",
    "            file.write(\"\\n\")  # Add an empty line between clusters\n",
    "\n",
    "# Main function to run the processing\n",
    "def main(input_file, output_file):\n",
    "    clusters = process_clusters(input_file)\n",
    "    write_clusters(clusters, output_file)\n",
    "    print(f\"Clusters have been written to {output_file}\")\n",
    "\n",
    "# Specify your input and output file paths\n",
    "input_file = '8clusters.txt'\n",
    "output_file = 'output.txt'\n",
    "\n",
    "# Run the program\n",
    "main(input_file, output_file)\n"
   ]
  },
  {
   "cell_type": "code",
   "execution_count": null,
   "id": "ba23554a",
   "metadata": {},
   "outputs": [],
   "source": []
  }
 ],
 "metadata": {
  "kernelspec": {
   "display_name": "Python 3 (ipykernel)",
   "language": "python",
   "name": "python3"
  },
  "language_info": {
   "codemirror_mode": {
    "name": "ipython",
    "version": 3
   },
   "file_extension": ".py",
   "mimetype": "text/x-python",
   "name": "python",
   "nbconvert_exporter": "python",
   "pygments_lexer": "ipython3",
   "version": "3.9.13"
  }
 },
 "nbformat": 4,
 "nbformat_minor": 5
}
