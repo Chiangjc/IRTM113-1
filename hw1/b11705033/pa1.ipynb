{
 "cells": [
  {
   "cell_type": "code",
   "execution_count": 1,
   "id": "69f4fa2c",
   "metadata": {},
   "outputs": [
    {
     "name": "stdout",
     "output_type": "stream",
     "text": [
      "Requirement already satisfied: nltk in c:\\users\\sandy\\anaconda3\\lib\\site-packages (3.7)\n",
      "Requirement already satisfied: joblib in c:\\users\\sandy\\anaconda3\\lib\\site-packages (from nltk) (1.1.0)\n",
      "Requirement already satisfied: tqdm in c:\\users\\sandy\\anaconda3\\lib\\site-packages (from nltk) (4.64.1)\n",
      "Requirement already satisfied: click in c:\\users\\sandy\\anaconda3\\lib\\site-packages (from nltk) (8.0.4)\n",
      "Requirement already satisfied: regex>=2021.8.3 in c:\\users\\sandy\\anaconda3\\lib\\site-packages (from nltk) (2022.7.9)\n",
      "Requirement already satisfied: colorama in c:\\users\\sandy\\anaconda3\\lib\\site-packages (from click->nltk) (0.4.5)\n",
      "Note: you may need to restart the kernel to use updated packages.\n"
     ]
    }
   ],
   "source": [
    "pip install nltk"
   ]
  },
  {
   "cell_type": "code",
   "execution_count": 2,
   "id": "42473c6f",
   "metadata": {},
   "outputs": [
    {
     "name": "stdout",
     "output_type": "stream",
     "text": [
      "the white house is also keeping a close watch on yugoslavia, where \n",
      "opposition forces are about to step up the pressure on president slobodan \n",
      "milosevic. but will it work? nbc's jim maceda is in belgrade tonight. \n",
      "serbia on the eve of a general strike. this two-hour roadblock is \n",
      "just a taste of what will come tomorrow, says the opposition, when \n",
      "a nationwide work stoppage is to begin. the purpose, to force out \n",
      "the man they say stole the presidential election, slobodan milosevic. \n",
      "the people don't accept to be victim and to be hostage of one person, \n",
      "milosevic. time is working against him now. but will the pressure \n",
      "work? four years ago, hundreds of thousands of serbs marched against \n",
      "milosevic calling for a general strike as well. the protest lasted \n",
      "three months, but milosevic survived. that's the real question. does \n",
      "the opposition have the power to confront the regime with its combined \n",
      "wealth to get rid of it? a case in point. these coal mine, the very \n",
      "heart of serbia's economy, now on strike, only a handful of workers \n",
      "guarding equipment. but with a week of electricity reserves, these \n",
      "engineers are worried about blackouts. \"we're just making a gesture \n",
      "to try to make this regime come to its senses.\" there are difficulties, \n",
      "too, spreading the word about the strike. independent radio station \n",
      "b-292 has been shut down three times. its signal jammed in belgrade \n",
      "leaving journalists frustrated. i'm waiting for a better time when \n",
      "people in belgrade can hear and listening my radio. poorly organized \n",
      "opposition rallies have been shrinking, now drawing barely 10,000 \n",
      "in belgrade. but opposition leaders hope all that will change tomorrow \n",
      "and civil disobedience throughout the land may give new life to their \n",
      "struggle to oust milosevic. jim maceda, nbc news, belgrade.\n"
     ]
    }
   ],
   "source": [
    "with open('1.txt', 'r', encoding='utf-8') as file:\n",
    "    content = file.read()\n",
    "\n",
    "print(content)"
   ]
  },
  {
   "cell_type": "code",
   "execution_count": 3,
   "id": "a66becfa",
   "metadata": {},
   "outputs": [
    {
     "name": "stdout",
     "output_type": "stream",
     "text": [
      "['the', 'white', 'house', 'is', 'also', 'keeping', 'a', 'close', 'watch', 'on', 'yugoslavia', 'where', 'opposition', 'forces', 'are', 'about', 'to', 'step', 'up', 'the', 'pressure', 'on', 'president', 'slobodan', 'milosevic', 'but', 'will', 'it', 'work', 'nbcs', 'jim', 'maceda', 'is', 'in', 'belgrade', 'tonight', 'serbia', 'on', 'the', 'eve', 'of', 'a', 'general', 'strike', 'this', 'two-hour', 'roadblock', 'is', 'just', 'a', 'taste', 'of', 'what', 'will', 'come', 'tomorrow', 'says', 'the', 'opposition', 'when', 'a', 'nationwide', 'work', 'stoppage', 'is', 'to', 'begin', 'the', 'purpose', 'to', 'force', 'out', 'the', 'man', 'they', 'say', 'stole', 'the', 'presidential', 'election', 'slobodan', 'milosevic', 'the', 'people', 'dont', 'accept', 'to', 'be', 'victim', 'and', 'to', 'be', 'hostage', 'of', 'one', 'person', 'milosevic', 'time', 'is', 'working', 'against', 'him', 'now', 'but', 'will', 'the', 'pressure', 'work', 'four', 'years', 'ago', 'hundreds', 'of', 'thousands', 'of', 'serbs', 'marched', 'against', 'milosevic', 'calling', 'for', 'a', 'general', 'strike', 'as', 'well', 'the', 'protest', 'lasted', 'three', 'months', 'but', 'milosevic', 'survived', 'thats', 'the', 'real', 'question', 'does', 'the', 'opposition', 'have', 'the', 'power', 'to', 'confront', 'the', 'regime', 'with', 'its', 'combined', 'wealth', 'to', 'get', 'rid', 'of', 'it', 'a', 'case', 'in', 'point', 'these', 'coal', 'mine', 'the', 'very', 'heart', 'of', 'serbias', 'economy', 'now', 'on', 'strike', 'only', 'a', 'handful', 'of', 'workers', 'guarding', 'equipment', 'but', 'with', 'a', 'week', 'of', 'electricity', 'reserves', 'these', 'engineers', 'are', 'worried', 'about', 'blackouts', 'were', 'just', 'making', 'a', 'gesture', 'to', 'try', 'to', 'make', 'this', 'regime', 'come', 'to', 'its', 'senses', 'there', 'are', 'difficulties', 'too', 'spreading', 'the', 'word', 'about', 'the', 'strike', 'independent', 'radio', 'station', 'b-292', 'has', 'been', 'shut', 'down', 'three', 'times', 'its', 'signal', 'jammed', 'in', 'belgrade', 'leaving', 'journalists', 'frustrated', 'im', 'waiting', 'for', 'a', 'better', 'time', 'when', 'people', 'in', 'belgrade', 'can', 'hear', 'and', 'listening', 'my', 'radio', 'poorly', 'organized', 'opposition', 'rallies', 'have', 'been', 'shrinking', 'now', 'drawing', 'barely', '10000', 'in', 'belgrade', 'but', 'opposition', 'leaders', 'hope', 'all', 'that', 'will', 'change', 'tomorrow', 'and', 'civil', 'disobedience', 'throughout', 'the', 'land', 'may', 'give', 'new', 'life', 'to', 'their', 'struggle', 'to', 'oust', 'milosevic', 'jim', 'maceda', 'nbc', 'news', 'belgrade']\n"
     ]
    }
   ],
   "source": [
    "text = content\n",
    "\n",
    "punctuation = ',.!?;:\"' \n",
    "punctuation += \"'\" # except -\n",
    "\n",
    "for char in punctuation:\n",
    "    text = text.replace(char, '')\n",
    "\n",
    "tokens = text.split()\n",
    "print(tokens)"
   ]
  },
  {
   "cell_type": "code",
   "execution_count": 4,
   "id": "2a59c2b1",
   "metadata": {},
   "outputs": [
    {
     "name": "stdout",
     "output_type": "stream",
     "text": [
      "['the', 'white', 'house', 'is', 'also', 'keeping', 'a', 'close', 'watch', 'on', 'yugoslavia', 'where', 'opposition', 'forces', 'are', 'about', 'to', 'step', 'up', 'the', 'pressure', 'on', 'president', 'slobodan', 'milosevic', 'but', 'will', 'it', 'work', 'nbcs', 'jim', 'maceda', 'is', 'in', 'belgrade', 'tonight', 'serbia', 'on', 'the', 'eve', 'of', 'a', 'general', 'strike', 'this', 'two-hour', 'roadblock', 'is', 'just', 'a', 'taste', 'of', 'what', 'will', 'come', 'tomorrow', 'says', 'the', 'opposition', 'when', 'a', 'nationwide', 'work', 'stoppage', 'is', 'to', 'begin', 'the', 'purpose', 'to', 'force', 'out', 'the', 'man', 'they', 'say', 'stole', 'the', 'presidential', 'election', 'slobodan', 'milosevic', 'the', 'people', 'dont', 'accept', 'to', 'be', 'victim', 'and', 'to', 'be', 'hostage', 'of', 'one', 'person', 'milosevic', 'time', 'is', 'working', 'against', 'him', 'now', 'but', 'will', 'the', 'pressure', 'work', 'four', 'years', 'ago', 'hundreds', 'of', 'thousands', 'of', 'serbs', 'marched', 'against', 'milosevic', 'calling', 'for', 'a', 'general', 'strike', 'as', 'well', 'the', 'protest', 'lasted', 'three', 'months', 'but', 'milosevic', 'survived', 'thats', 'the', 'real', 'question', 'does', 'the', 'opposition', 'have', 'the', 'power', 'to', 'confront', 'the', 'regime', 'with', 'its', 'combined', 'wealth', 'to', 'get', 'rid', 'of', 'it', 'a', 'case', 'in', 'point', 'these', 'coal', 'mine', 'the', 'very', 'heart', 'of', 'serbias', 'economy', 'now', 'on', 'strike', 'only', 'a', 'handful', 'of', 'workers', 'guarding', 'equipment', 'but', 'with', 'a', 'week', 'of', 'electricity', 'reserves', 'these', 'engineers', 'are', 'worried', 'about', 'blackouts', 'were', 'just', 'making', 'a', 'gesture', 'to', 'try', 'to', 'make', 'this', 'regime', 'come', 'to', 'its', 'senses', 'there', 'are', 'difficulties', 'too', 'spreading', 'the', 'word', 'about', 'the', 'strike', 'independent', 'radio', 'station', 'b-292', 'has', 'been', 'shut', 'down', 'three', 'times', 'its', 'signal', 'jammed', 'in', 'belgrade', 'leaving', 'journalists', 'frustrated', 'im', 'waiting', 'for', 'a', 'better', 'time', 'when', 'people', 'in', 'belgrade', 'can', 'hear', 'and', 'listening', 'my', 'radio', 'poorly', 'organized', 'opposition', 'rallies', 'have', 'been', 'shrinking', 'now', 'drawing', 'barely', '10000', 'in', 'belgrade', 'but', 'opposition', 'leaders', 'hope', 'all', 'that', 'will', 'change', 'tomorrow', 'and', 'civil', 'disobedience', 'throughout', 'the', 'land', 'may', 'give', 'new', 'life', 'to', 'their', 'struggle', 'to', 'oust', 'milosevic', 'jim', 'maceda', 'nbc', 'news', 'belgrade']\n"
     ]
    }
   ],
   "source": [
    "for token in tokens:\n",
    "    token = token.lower()\n",
    "print(tokens)"
   ]
  },
  {
   "cell_type": "code",
   "execution_count": 5,
   "id": "de51eb5a",
   "metadata": {},
   "outputs": [
    {
     "name": "stderr",
     "output_type": "stream",
     "text": [
      "[nltk_data] Downloading package punkt to\n",
      "[nltk_data]     C:\\Users\\sandy\\AppData\\Roaming\\nltk_data...\n",
      "[nltk_data]   Package punkt is already up-to-date!\n"
     ]
    },
    {
     "data": {
      "text/plain": [
       "True"
      ]
     },
     "execution_count": 5,
     "metadata": {},
     "output_type": "execute_result"
    }
   ],
   "source": [
    "import nltk\n",
    "from nltk.stem import PorterStemmer\n",
    "\n",
    "nltk.download('punkt')"
   ]
  },
  {
   "cell_type": "code",
   "execution_count": 6,
   "id": "683335cf",
   "metadata": {},
   "outputs": [
    {
     "name": "stdout",
     "output_type": "stream",
     "text": [
      "['the', 'white', 'hous', 'is', 'also', 'keep', 'a', 'close', 'watch', 'on', 'yugoslavia', 'where', 'opposit', 'forc', 'are', 'about', 'to', 'step', 'up', 'the', 'pressur', 'on', 'presid', 'slobodan', 'milosev', 'but', 'will', 'it', 'work', 'nbc', 'jim', 'maceda', 'is', 'in', 'belgrad', 'tonight', 'serbia', 'on', 'the', 'eve', 'of', 'a', 'gener', 'strike', 'thi', 'two-hour', 'roadblock', 'is', 'just', 'a', 'tast', 'of', 'what', 'will', 'come', 'tomorrow', 'say', 'the', 'opposit', 'when', 'a', 'nationwid', 'work', 'stoppag', 'is', 'to', 'begin', 'the', 'purpos', 'to', 'forc', 'out', 'the', 'man', 'they', 'say', 'stole', 'the', 'presidenti', 'elect', 'slobodan', 'milosev', 'the', 'peopl', 'dont', 'accept', 'to', 'be', 'victim', 'and', 'to', 'be', 'hostag', 'of', 'one', 'person', 'milosev', 'time', 'is', 'work', 'against', 'him', 'now', 'but', 'will', 'the', 'pressur', 'work', 'four', 'year', 'ago', 'hundr', 'of', 'thousand', 'of', 'serb', 'march', 'against', 'milosev', 'call', 'for', 'a', 'gener', 'strike', 'as', 'well', 'the', 'protest', 'last', 'three', 'month', 'but', 'milosev', 'surviv', 'that', 'the', 'real', 'question', 'doe', 'the', 'opposit', 'have', 'the', 'power', 'to', 'confront', 'the', 'regim', 'with', 'it', 'combin', 'wealth', 'to', 'get', 'rid', 'of', 'it', 'a', 'case', 'in', 'point', 'these', 'coal', 'mine', 'the', 'veri', 'heart', 'of', 'serbia', 'economi', 'now', 'on', 'strike', 'onli', 'a', 'hand', 'of', 'worker', 'guard', 'equip', 'but', 'with', 'a', 'week', 'of', 'electr', 'reserv', 'these', 'engin', 'are', 'worri', 'about', 'blackout', 'were', 'just', 'make', 'a', 'gestur', 'to', 'tri', 'to', 'make', 'thi', 'regim', 'come', 'to', 'it', 'sens', 'there', 'are', 'difficulti', 'too', 'spread', 'the', 'word', 'about', 'the', 'strike', 'independ', 'radio', 'station', 'b-292', 'ha', 'been', 'shut', 'down', 'three', 'time', 'it', 'signal', 'jam', 'in', 'belgrad', 'leav', 'journalist', 'frustrat', 'im', 'wait', 'for', 'a', 'better', 'time', 'when', 'peopl', 'in', 'belgrad', 'can', 'hear', 'and', 'listen', 'my', 'radio', 'poorli', 'organ', 'opposit', 'ralli', 'have', 'been', 'shrink', 'now', 'draw', 'bare', '10000', 'in', 'belgrad', 'but', 'opposit', 'leader', 'hope', 'all', 'that', 'will', 'chang', 'tomorrow', 'and', 'civil', 'disobedi', 'throughout', 'the', 'land', 'may', 'give', 'new', 'life', 'to', 'their', 'struggl', 'to', 'oust', 'milosev', 'jim', 'maceda', 'nbc', 'news', 'belgrad']\n"
     ]
    }
   ],
   "source": [
    "# Use Porter’s algorithm\n",
    "stemmer = PorterStemmer()\n",
    "\n",
    "# Stemming\n",
    "stemmed_words = [stemmer.stem(word) for word in tokens]\n",
    "print(stemmed_words)"
   ]
  },
  {
   "cell_type": "code",
   "execution_count": 7,
   "id": "713dc2b3",
   "metadata": {},
   "outputs": [
    {
     "name": "stdout",
     "output_type": "stream",
     "text": [
      "['white', 'house', 'also', 'keeping', 'close', 'watch', 'yugoslavia', 'opposition', 'forces', 'step', 'pressure', 'president', 'slobodan', 'milosevic', 'work', 'nbcs', 'jim', 'maceda', 'belgrade', 'tonight', 'serbia', 'eve', 'general', 'strike', 'two-hour', 'roadblock', 'taste', 'come', 'tomorrow', 'says', 'opposition', 'nationwide', 'work', 'stoppage', 'begin', 'purpose', 'force', 'man', 'say', 'stole', 'presidential', 'election', 'slobodan', 'milosevic', 'people', 'dont', 'accept', 'victim', 'hostage', 'one', 'person', 'milosevic', 'time', 'working', 'pressure', 'work', 'four', 'years', 'ago', 'hundreds', 'thousands', 'serbs', 'marched', 'milosevic', 'calling', 'general', 'strike', 'well', 'protest', 'lasted', 'three', 'months', 'milosevic', 'survived', 'thats', 'real', 'question', 'opposition', 'power', 'confront', 'regime', 'combined', 'wealth', 'get', 'rid', 'case', 'point', 'coal', 'mine', 'heart', 'serbias', 'economy', 'strike', 'handful', 'workers', 'guarding', 'equipment', 'week', 'electricity', 'reserves', 'engineers', 'worried', 'blackouts', 'making', 'gesture', 'try', 'make', 'regime', 'come', 'senses', 'difficulties', 'spreading', 'word', 'strike', 'independent', 'radio', 'station', 'b-292', 'shut', 'three', 'times', 'signal', 'jammed', 'belgrade', 'leaving', 'journalists', 'frustrated', 'im', 'waiting', 'better', 'time', 'people', 'belgrade', 'hear', 'listening', 'radio', 'poorly', 'organized', 'opposition', 'rallies', 'shrinking', 'drawing', 'barely', '10000', 'belgrade', 'opposition', 'leaders', 'hope', 'change', 'tomorrow', 'civil', 'disobedience', 'throughout', 'land', 'may', 'give', 'new', 'life', 'struggle', 'oust', 'milosevic', 'jim', 'maceda', 'nbc', 'news', 'belgrade']\n"
     ]
    }
   ],
   "source": [
    "stopwords = [\"i\", \"me\", \"my\", \"myself\", \"we\", \"our\", \"ours\", \"ourselves\", \"you\", \"your\", \"yours\", \"yourself\", \"yourselves\", \"he\", \"him\", \"his\", \"himself\", \"she\", \"her\", \"hers\", \"herself\", \"it\", \"its\", \"itself\", \"they\", \"them\", \"their\", \"theirs\", \"themselves\", \"what\", \"which\", \"who\", \"whom\", \"this\", \"that\", \"these\", \"those\", \"am\", \"is\", \"are\", \"was\", \"were\", \"be\", \"been\", \"being\", \"have\", \"has\", \"had\", \"having\", \"do\", \"does\", \"did\", \"doing\", \"a\", \"an\", \"the\", \"and\", \"but\", \"if\", \"or\", \"because\", \"as\", \"until\", \"while\", \"of\", \"at\", \"by\", \"for\", \"with\", \"about\", \"against\", \"between\", \"into\", \"through\", \"during\", \"before\", \"after\", \"above\", \"below\", \"to\", \"from\", \"up\", \"down\", \"in\", \"out\", \"on\", \"off\", \"over\", \"under\", \"again\", \"further\", \"then\", \"once\", \"here\", \"there\", \"when\", \"where\", \"why\", \"how\", \"all\", \"any\", \"both\", \"each\", \"few\", \"more\", \"most\", \"other\", \"some\", \"such\", \"no\", \"nor\", \"not\", \"only\", \"own\", \"same\", \"so\", \"than\", \"too\", \"very\", \"s\", \"t\", \"can\", \"will\", \"just\", \"don\", \"should\", \"now\"]\n",
    "\n",
    "# Remove stopwords\n",
    "filtered_tokens = [word for word in tokens if word not in stopwords]\n",
    "print(filtered_tokens)\n"
   ]
  },
  {
   "cell_type": "code",
   "execution_count": 8,
   "id": "d94d7046",
   "metadata": {},
   "outputs": [],
   "source": [
    "with open('result.txt', 'w', encoding='utf-8') as file:\n",
    "    for token in filtered_tokens:\n",
    "        file.write(token + '\\n')"
   ]
  },
  {
   "cell_type": "code",
   "execution_count": null,
   "id": "7206f387",
   "metadata": {},
   "outputs": [],
   "source": []
  }
 ],
 "metadata": {
  "kernelspec": {
   "display_name": "Python 3 (ipykernel)",
   "language": "python",
   "name": "python3"
  },
  "language_info": {
   "codemirror_mode": {
    "name": "ipython",
    "version": 3
   },
   "file_extension": ".py",
   "mimetype": "text/x-python",
   "name": "python",
   "nbconvert_exporter": "python",
   "pygments_lexer": "ipython3",
   "version": "3.9.13"
  }
 },
 "nbformat": 4,
 "nbformat_minor": 5
}
